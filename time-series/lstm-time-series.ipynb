{
 "cells": [
  {
   "cell_type": "markdown",
   "metadata": {},
   "source": [
    "# RNN 用于时间序列的分析\n",
    "前面我们讲到使用 RNN 做简单的图像分类的问题，但是 RNN 并不擅长此类问题，下面我们讲一讲如何将 RNN 用到时间序列的问题上，因为对于时序数据，后面的数据会用到前面的数据，LSTM 的记忆特性非常适合这种场景。"
   ]
  },
  {
   "cell_type": "markdown",
   "metadata": {},
   "source": [
    "首先我们可以读入数据，这个数据是 10 年飞机月流量，可视化得到下面的效果。"
   ]
  },
  {
   "cell_type": "code",
   "execution_count": 3,
   "metadata": {
    "collapsed": true
   },
   "outputs": [],
   "source": [
    "import numpy as np\n",
    "import pandas as pd\n",
    "import matplotlib.pyplot as plt"
   ]
  },
  {
   "cell_type": "code",
   "execution_count": 4,
   "metadata": {
    "collapsed": true
   },
   "outputs": [],
   "source": [
    "data_csv = pd.read_csv('D:/pytorch/chapter5_RNN/time-series/data.csv', usecols=[1])"
   ]
  },
  {
   "cell_type": "code",
   "execution_count": 5,
   "metadata": {},
   "outputs": [
    {
     "data": {
      "text/plain": "[<matplotlib.lines.Line2D at 0x1c77247fb20>]"
     },
     "execution_count": 5,
     "metadata": {},
     "output_type": "execute_result"
    },
    {
     "data": {
      "text/plain": "<Figure size 432x288 with 1 Axes>",
      "image/png": "[encoded data removed]"
     },
     "metadata": {
      "needs_background": "light"
     },
     "output_type": "display_data"
    }
   ],
   "source": [
    "plt.plot(data_csv)"
   ]
  },
  {
   "cell_type": "markdown",
   "metadata": {},
   "source": [
    "首先我们进行预处理，将数据中 `na` 的数据去掉，然后将数据标准化到 0 ~ 1 之间。"
   ]
  },
  {
   "cell_type": "code",
   "execution_count": 20,
   "metadata": {
    "collapsed": true
   },
   "outputs": [
    {
     "name": "stdout",
     "output_type": "stream",
     "text": [
      "[[112.]\n",
      " [118.]\n",
      " [132.]\n",
      " [129.]\n",
      " [121.]\n",
      " [135.]\n",
      " [148.]\n",
      " [148.]\n",
      " [136.]\n",
      " [119.]\n",
      " [104.]\n",
      " [118.]\n",
      " [115.]\n",
      " [126.]\n",
      " [141.]\n",
      " [135.]\n",
      " [125.]\n",
      " [149.]\n",
      " [170.]\n",
      " [170.]\n",
      " [158.]\n",
      " [133.]\n",
      " [114.]\n",
      " [140.]\n",
      " [145.]\n",
      " [150.]\n",
      " [178.]\n",
      " [163.]\n",
      " [172.]\n",
      " [178.]\n",
      " [199.]\n",
      " [199.]\n",
      " [184.]\n",
      " [162.]\n",
      " [146.]\n",
      " [166.]\n",
      " [171.]\n",
      " [180.]\n",
      " [193.]\n",
      " [181.]\n",
      " [183.]\n",
      " [218.]\n",
      " [230.]\n",
      " [242.]\n",
      " [209.]\n",
      " [191.]\n",
      " [172.]\n",
      " [194.]\n",
      " [196.]\n",
      " [196.]\n",
      " [236.]\n",
      " [235.]\n",
      " [229.]\n",
      " [243.]\n",
      " [264.]\n",
      " [272.]\n",
      " [237.]\n",
      " [211.]\n",
      " [180.]\n",
      " [201.]\n",
      " [204.]\n",
      " [188.]\n",
      " [235.]\n",
      " [227.]\n",
      " [234.]\n",
      " [264.]\n",
      " [302.]\n",
      " [293.]\n",
      " [259.]\n",
      " [229.]\n",
      " [203.]\n",
      " [229.]\n",
      " [242.]\n",
      " [233.]\n",
      " [267.]\n",
      " [269.]\n",
      " [270.]\n",
      " [315.]\n",
      " [364.]\n",
      " [347.]\n",
      " [312.]\n",
      " [274.]\n",
      " [237.]\n",
      " [278.]\n",
      " [284.]\n",
      " [277.]\n",
      " [317.]\n",
      " [313.]\n",
      " [318.]\n",
      " [374.]\n",
      " [413.]\n",
      " [405.]\n",
      " [355.]\n",
      " [306.]\n",
      " [271.]\n",
      " [306.]\n",
      " [315.]\n",
      " [301.]\n",
      " [356.]\n",
      " [348.]\n",
      " [355.]\n",
      " [422.]\n",
      " [465.]\n",
      " [467.]\n",
      " [404.]\n",
      " [347.]\n",
      " [305.]\n",
      " [336.]\n",
      " [340.]\n",
      " [318.]\n",
      " [362.]\n",
      " [348.]\n",
      " [363.]\n",
      " [435.]\n",
      " [491.]\n",
      " [505.]\n",
      " [404.]\n",
      " [359.]\n",
      " [310.]\n",
      " [337.]\n",
      " [360.]\n",
      " [342.]\n",
      " [406.]\n",
      " [396.]\n",
      " [420.]\n",
      " [472.]\n",
      " [548.]\n",
      " [559.]\n",
      " [463.]\n",
      " [407.]\n",
      " [362.]\n",
      " [405.]\n",
      " [417.]\n",
      " [391.]\n",
      " [419.]\n",
      " [461.]\n",
      " [472.]\n",
      " [535.]\n",
      " [622.]\n",
      " [606.]\n",
      " [508.]\n",
      " [461.]\n",
      " [390.]\n",
      " [432.]]\n",
      "[array([0.21621622], dtype=float32), array([0.22779922], dtype=float32), array([0.25482625], dtype=float32), array([0.24903475], dtype=float32), array([0.23359074], dtype=float32), array([0.26061776], dtype=float32), array([0.2857143], dtype=float32), array([0.2857143], dtype=float32), array([0.26254827], dtype=float32), array([0.22972973], dtype=float32), array([0.2007722], dtype=float32), array([0.22779922], dtype=float32), array([0.22200772], dtype=float32), array([0.24324325], dtype=float32), array([0.27220076], dtype=float32), array([0.26061776], dtype=float32), array([0.24131274], dtype=float32), array([0.28764477], dtype=float32), array([0.32818532], dtype=float32), array([0.32818532], dtype=float32), array([0.30501932], dtype=float32), array([0.25675675], dtype=float32), array([0.22007722], dtype=float32), array([0.27027026], dtype=float32), array([0.27992278], dtype=float32), array([0.28957528], dtype=float32), array([0.34362933], dtype=float32), array([0.3146718], dtype=float32), array([0.33204633], dtype=float32), array([0.34362933], dtype=float32), array([0.38416988], dtype=float32), array([0.38416988], dtype=float32), array([0.35521236], dtype=float32), array([0.3127413], dtype=float32), array([0.2818533], dtype=float32), array([0.32046333], dtype=float32), array([0.33011582], dtype=float32), array([0.34749034], dtype=float32), array([0.37258688], dtype=float32), array([0.34942085], dtype=float32), array([0.35328186], dtype=float32), array([0.4208494], dtype=float32), array([0.44401544], dtype=float32), array([0.46718147], dtype=float32), array([0.4034749], dtype=float32), array([0.36872587], dtype=float32), array([0.33204633], dtype=float32), array([0.37451738], dtype=float32), array([0.3783784], dtype=float32), array([0.3783784], dtype=float32), array([0.45559844], dtype=float32), array([0.45366797], dtype=float32), array([0.44208494], dtype=float32), array([0.46911198], dtype=float32), array([0.5096525], dtype=float32), array([0.52509654], dtype=float32), array([0.45752895], dtype=float32), array([0.4073359], dtype=float32), array([0.34749034], dtype=float32), array([0.3880309], dtype=float32), array([0.3938224], dtype=float32), array([0.36293435], dtype=float32), array([0.45366797], dtype=float32), array([0.43822393], dtype=float32), array([0.45173746], dtype=float32), array([0.5096525], dtype=float32), array([0.58301157], dtype=float32), array([0.56563705], dtype=float32), array([0.5], dtype=float32), array([0.44208494], dtype=float32), array([0.3918919], dtype=float32), array([0.44208494], dtype=float32), array([0.46718147], dtype=float32), array([0.44980696], dtype=float32), array([0.51544404], dtype=float32), array([0.519305], dtype=float32), array([0.5212355], dtype=float32), array([0.6081081], dtype=float32), array([0.7027027], dtype=float32), array([0.66988415], dtype=float32), array([0.6023166], dtype=float32), array([0.52895755], dtype=float32), array([0.45752895], dtype=float32), array([0.53667957], dtype=float32), array([0.54826254], dtype=float32), array([0.53474903], dtype=float32), array([0.6119691], dtype=float32), array([0.6042471], dtype=float32), array([0.6138996], dtype=float32), array([0.72200775], dtype=float32), array([0.7972973], dtype=float32), array([0.78185326], dtype=float32), array([0.6853282], dtype=float32), array([0.5907336], dtype=float32), array([0.523166], dtype=float32), array([0.5907336], dtype=float32), array([0.6081081], dtype=float32), array([0.5810811], dtype=float32), array([0.68725866], dtype=float32), array([0.6718147], dtype=float32), array([0.6853282], dtype=float32), array([0.8146718], dtype=float32), array([0.8976834], dtype=float32), array([0.9015444], dtype=float32), array([0.7799228], dtype=float32), array([0.66988415], dtype=float32), array([0.5888031], dtype=float32), array([0.6486486], dtype=float32), array([0.65637064], dtype=float32), array([0.6138996], dtype=float32), array([0.6988417], dtype=float32), array([0.6718147], dtype=float32), array([0.7007722], dtype=float32), array([0.83976835], dtype=float32), array([0.94787645], dtype=float32), array([0.97490346], dtype=float32), array([0.7799228], dtype=float32), array([0.6930502], dtype=float32), array([0.5984556], dtype=float32), array([0.65057915], dtype=float32), array([0.6949807], dtype=float32), array([0.66023165], dtype=float32), array([0.7837838], dtype=float32), array([0.76447874], dtype=float32), array([0.8108108], dtype=float32), array([0.9111969], dtype=float32), array([1.0579151], dtype=float32), array([1.0791506], dtype=float32), array([0.8938224], dtype=float32), array([0.78571427], dtype=float32), array([0.6988417], dtype=float32), array([0.78185326], dtype=float32), array([0.8050193], dtype=float32), array([0.75482625], dtype=float32), array([0.8088803], dtype=float32), array([0.88996136], dtype=float32), array([0.9111969], dtype=float32), array([1.0328186], dtype=float32), array([1.2007722], dtype=float32), array([1.1698842], dtype=float32), array([0.980695], dtype=float32), array([0.88996136], dtype=float32), array([0.7528958], dtype=float32), array([0.8339768], dtype=float32)]\n"
     ]
    }
   ],
   "source": [
    "# 数据预处理\n",
    "data_csv = data_csv.dropna()\n",
    "dataset = data_csv.values\n",
    "dataset = dataset.astype('float32')\n",
    "print(dataset)\n",
    "max_value = np.max(dataset)\n",
    "min_value = np.min(dataset)\n",
    "scalar = max_value - min_value\n",
    "dataset = list(map(lambda x: x / scalar, dataset))\n",
    "print(dataset)"
   ]
  },
  {
   "cell_type": "markdown",
   "metadata": {},
   "source": [
    "接着我们进行数据集的创建，我们想通过前面几个月的流量来预测当月的流量，比如我们希望通过前两个月的流量来预测当月的流量，我们可以将前两个月的流量当做输入，当月的流量当做输出。同时我们需要将我们的数据集分为训练集和测试集，通过测试集的效果来测试模型的性能，这里我们简单的将前面几年的数据作为训练集，后面两年的数据作为测试集。"
   ]
  },
  {
   "cell_type": "code",
   "execution_count": 11,
   "metadata": {
    "collapsed": true
   },
   "outputs": [],
   "source": [
    "def create_dataset(dataset, look_back=2):\n",
    "    dataX, dataY = [], []\n",
    "    for i in range(len(dataset) - look_back):\n",
    "        a = dataset[i:(i + look_back)]\n",
    "        dataX.append(a)\n",
    "        dataY.append(dataset[i + look_back])\n",
    "    return np.array(dataX), np.array(dataY)"
   ]
  },
  {
   "cell_type": "code",
   "execution_count": 22,
   "metadata": {},
   "outputs": [
    {
     "name": "stdout",
     "output_type": "stream",
     "text": [
      "[[0.25482625]\n",
      " [0.24903475]\n",
      " [0.23359074]\n",
      " [0.26061776]\n",
      " [0.2857143 ]\n",
      " [0.2857143 ]\n",
      " [0.26254827]\n",
      " [0.22972973]\n",
      " [0.2007722 ]\n",
      " [0.22779922]\n",
      " [0.22200772]\n",
      " [0.24324325]\n",
      " [0.27220076]\n",
      " [0.26061776]\n",
      " [0.24131274]\n",
      " [0.28764477]\n",
      " [0.32818532]\n",
      " [0.32818532]\n",
      " [0.30501932]\n",
      " [0.25675675]\n",
      " [0.22007722]\n",
      " [0.27027026]\n",
      " [0.27992278]\n",
      " [0.28957528]\n",
      " [0.34362933]\n",
      " [0.3146718 ]\n",
      " [0.33204633]\n",
      " [0.34362933]\n",
      " [0.38416988]\n",
      " [0.38416988]\n",
      " [0.35521236]\n",
      " [0.3127413 ]\n",
      " [0.2818533 ]\n",
      " [0.32046333]\n",
      " [0.33011582]\n",
      " [0.34749034]\n",
      " [0.37258688]\n",
      " [0.34942085]\n",
      " [0.35328186]\n",
      " [0.4208494 ]\n",
      " [0.44401544]\n",
      " [0.46718147]\n",
      " [0.4034749 ]\n",
      " [0.36872587]\n",
      " [0.33204633]\n",
      " [0.37451738]\n",
      " [0.3783784 ]\n",
      " [0.3783784 ]\n",
      " [0.45559844]\n",
      " [0.45366797]\n",
      " [0.44208494]\n",
      " [0.46911198]\n",
      " [0.5096525 ]\n",
      " [0.52509654]\n",
      " [0.45752895]\n",
      " [0.4073359 ]\n",
      " [0.34749034]\n",
      " [0.3880309 ]\n",
      " [0.3938224 ]\n",
      " [0.36293435]\n",
      " [0.45366797]\n",
      " [0.43822393]\n",
      " [0.45173746]\n",
      " [0.5096525 ]\n",
      " [0.58301157]\n",
      " [0.56563705]\n",
      " [0.5       ]\n",
      " [0.44208494]\n",
      " [0.3918919 ]\n",
      " [0.44208494]\n",
      " [0.46718147]\n",
      " [0.44980696]\n",
      " [0.51544404]\n",
      " [0.519305  ]\n",
      " [0.5212355 ]\n",
      " [0.6081081 ]\n",
      " [0.7027027 ]\n",
      " [0.66988415]\n",
      " [0.6023166 ]\n",
      " [0.52895755]\n",
      " [0.45752895]\n",
      " [0.53667957]\n",
      " [0.54826254]\n",
      " [0.53474903]\n",
      " [0.6119691 ]\n",
      " [0.6042471 ]\n",
      " [0.6138996 ]\n",
      " [0.72200775]\n",
      " [0.7972973 ]\n",
      " [0.78185326]\n",
      " [0.6853282 ]\n",
      " [0.5907336 ]\n",
      " [0.523166  ]\n",
      " [0.5907336 ]\n",
      " [0.6081081 ]\n",
      " [0.5810811 ]\n",
      " [0.68725866]\n",
      " [0.6718147 ]\n",
      " [0.6853282 ]\n",
      " [0.8146718 ]\n",
      " [0.8976834 ]\n",
      " [0.9015444 ]\n",
      " [0.7799228 ]\n",
      " [0.66988415]\n",
      " [0.5888031 ]\n",
      " [0.6486486 ]\n",
      " [0.65637064]\n",
      " [0.6138996 ]\n",
      " [0.6988417 ]\n",
      " [0.6718147 ]\n",
      " [0.7007722 ]\n",
      " [0.83976835]\n",
      " [0.94787645]\n",
      " [0.97490346]\n",
      " [0.7799228 ]\n",
      " [0.6930502 ]\n",
      " [0.5984556 ]\n",
      " [0.65057915]\n",
      " [0.6949807 ]\n",
      " [0.66023165]\n",
      " [0.7837838 ]\n",
      " [0.76447874]\n",
      " [0.8108108 ]\n",
      " [0.9111969 ]\n",
      " [1.0579151 ]\n",
      " [1.0791506 ]\n",
      " [0.8938224 ]\n",
      " [0.78571427]\n",
      " [0.6988417 ]\n",
      " [0.78185326]\n",
      " [0.8050193 ]\n",
      " [0.75482625]\n",
      " [0.8088803 ]\n",
      " [0.88996136]\n",
      " [0.9111969 ]\n",
      " [1.0328186 ]\n",
      " [1.2007722 ]\n",
      " [1.1698842 ]\n",
      " [0.980695  ]\n",
      " [0.88996136]\n",
      " [0.7528958 ]\n",
      " [0.8339768 ]]\n"
     ]
    }
   ],
   "source": [
    "# 创建好输入输出\n",
    "data_X, data_Y = create_dataset(dataset)\n",
    "print(data_Y)"
   ]
  },
  {
   "cell_type": "code",
   "execution_count": 10,
   "metadata": {
    "collapsed": true
   },
   "outputs": [],
   "source": [
    "# 划分训练集和测试集，70% 作为训练集\n",
    "train_size = int(len(data_X) * 0.7)\n",
    "test_size = len(data_X) - train_size\n",
    "train_X = data_X[:train_size]\n",
    "train_Y = data_Y[:train_size]\n",
    "test_X = data_X[train_size:]\n",
    "test_Y = data_Y[train_size:]"
   ]
  },
  {
   "cell_type": "markdown",
   "metadata": {},
   "source": [
    "最后，我们需要将数据改变一下形状，因为 RNN 读入的数据维度是 (seq, batch, feature)，所以要重新改变一下数据的维度，这里只有一个序列，所以 batch 是 1，而输入的 feature 就是我们希望依据的几个月份，这里我们定的是两个月份，所以 feature 就是 2."
   ]
  },
  {
   "cell_type": "code",
   "execution_count": 11,
   "metadata": {
    "collapsed": true
   },
   "outputs": [],
   "source": [
    "import torch\n",
    "\n",
    "train_X = train_X.reshape(-1, 1, 2)\n",
    "train_Y = train_Y.reshape(-1, 1, 1)\n",
    "test_X = test_X.reshape(-1, 1, 2)\n",
    "\n",
    "train_x = torch.from_numpy(train_X)\n",
    "train_y = torch.from_numpy(train_Y)\n",
    "test_x = torch.from_numpy(test_X)"
   ]
  },
  {
   "cell_type": "code",
   "execution_count": 12,
   "metadata": {
    "collapsed": true
   },
   "outputs": [],
   "source": [
    "from torch import nn\n",
    "from torch.autograd import Variable"
   ]
  },
  {
   "cell_type": "markdown",
   "metadata": {},
   "source": [
    "这里定义好模型，模型的第一部分是一个两层的 RNN，每一步模型接受两个月的输入作为特征，得到一个输出特征。接着通过一个线性层将 RNN 的输出回归到流量的具体数值，这里我们需要用 `view` 来重新排列，因为 `nn.Linear` 不接受三维的输入，所以我们先将前两维合并在一起，然后经过线性层之后再将其分开，最后输出结果。"
   ]
  },
  {
   "cell_type": "code",
   "execution_count": 16,
   "metadata": {
    "collapsed": true
   },
   "outputs": [],
   "source": [
    "# 定义模型\n",
    "class lstm_reg(nn.Module):\n",
    "    def __init__(self, input_size, hidden_size, output_size=1, num_layers=2):\n",
    "        super(lstm_reg, self).__init__()\n",
    "        \n",
    "        self.rnn = nn.LSTM(input_size, hidden_size, num_layers) # rnn\n",
    "        self.reg = nn.Linear(hidden_size, output_size) # 回归\n",
    "        \n",
    "    def forward(self, x):\n",
    "        x, _ = self.rnn(x) # (seq, batch, hidden)\n",
    "        s, b, h = x.shape\n",
    "        x = x.view(s*b, h) # 转换成线性层的输入格式\n",
    "        x = self.reg(x)\n",
    "        x = x.view(s, b, -1)\n",
    "        return x"
   ]
  },
  {
   "cell_type": "code",
   "execution_count": 20,
   "metadata": {},
   "outputs": [],
   "source": [
    "net = lstm_reg(2, 4)\n",
    "\n",
    "criterion = nn.MSELoss()\n",
    "optimizer = torch.optim.Adam(net.parameters(), lr=1e-2)"
   ]
  },
  {
   "cell_type": "markdown",
   "metadata": {},
   "source": [
    "定义好网络结构，输入的维度是 2，因为我们使用两个月的流量作为输入，隐藏层的维度可以任意指定，这里我们选的 4"
   ]
  },
  {
   "cell_type": "code",
   "execution_count": 21,
   "metadata": {},
   "outputs": [
    {
     "name": "stdout",
     "output_type": "stream",
     "text": [
      "Epoch: 100, Loss: 0.00395\n",
      "Epoch: 200, Loss: 0.00337\n",
      "Epoch: 300, Loss: 0.00259\n",
      "Epoch: 400, Loss: 0.00149\n",
      "Epoch: 500, Loss: 0.00109\n",
      "Epoch: 600, Loss: 0.00106\n",
      "Epoch: 700, Loss: 0.00097\n",
      "Epoch: 800, Loss: 0.00092\n",
      "Epoch: 900, Loss: 0.00087\n",
      "Epoch: 1000, Loss: 0.00105\n"
     ]
    }
   ],
   "source": [
    "# 开始训练\n",
    "for e in range(1000):\n",
    "    var_x = Variable(train_x)\n",
    "    var_y = Variable(train_y)\n",
    "    # 前向传播\n",
    "    out = net(var_x)\n",
    "    loss = criterion(out, var_y)\n",
    "    # 反向传播\n",
    "    optimizer.zero_grad()\n",
    "    loss.backward()\n",
    "    optimizer.step()\n",
    "    if (e + 1) % 100 == 0: # 每 100 次输出结果\n",
    "        print('Epoch: {}, Loss: {:.5f}'.format(e + 1, loss.data[0]))"
   ]
  },
  {
   "cell_type": "markdown",
   "metadata": {},
   "source": [
    "训练完成之后，我们可以用训练好的模型去预测后面的结果"
   ]
  },
  {
   "cell_type": "code",
   "execution_count": 22,
   "metadata": {
    "collapsed": true
   },
   "outputs": [],
   "source": [
    "net = net.eval() # 转换成测试模式"
   ]
  },
  {
   "cell_type": "code",
   "execution_count": 46,
   "metadata": {},
   "outputs": [],
   "source": [
    "data_X = data_X.reshape(-1, 1, 2)\n",
    "data_X = torch.from_numpy(data_X)\n",
    "var_data = Variable(data_X)\n",
    "pred_test = net(var_data) # 测试集的预测结果"
   ]
  },
  {
   "cell_type": "code",
   "execution_count": 47,
   "metadata": {},
   "outputs": [],
   "source": [
    "# 改变输出的格式\n",
    "pred_test = pred_test.view(-1).data.numpy()"
   ]
  },
  {
   "cell_type": "code",
   "execution_count": 49,
   "metadata": {},
   "outputs": [
    {
     "data": {
      "text/plain": [
       "<matplotlib.legend.Legend at 0x120f7f358>"
      ]
     },
     "execution_count": 49,
     "metadata": {},
     "output_type": "execute_result"
    },
    {
     "data": {
      "image/png": "[encoded data removed]",
      "text/plain": [
       "<matplotlib.figure.Figure at 0x120f56d30>"
      ]
     },
     "metadata": {},
     "output_type": "display_data"
    }
   ],
   "source": [
    "# 画出实际结果和预测的结果\n",
    "plt.plot(pred_test, 'r', label='prediction')\n",
    "plt.plot(dataset, 'b', label='real')\n",
    "plt.legend(loc='best')"
   ]
  },
  {
   "cell_type": "markdown",
   "metadata": {},
   "source": [
    "这里蓝色的是真实的数据集，红色的是预测的结果，我们能够看到，使用 lstm 能够得到比较相近的结果，预测的趋势也与真实的数据集是相同的，因为其能够记忆之前的信息，而单纯的使用线性回归并不能得到较好的结果，从这个例子也说明了 RNN 对于序列有着非常好的性能。"
   ]
  },
  {
   "cell_type": "markdown",
   "metadata": {},
   "source": [
    "**小练习：试试改变隐藏状态输出的特征数，看看有没有什么改变，同时试试使用简单的线性回归模型，看看会得到什么样的结果**"
   ]
  }
 ],
 "metadata": {
  "kernelspec": {
   "display_name": "Python 3",
   "language": "python",
   "name": "python3"
  },
  "language_info": {
   "codemirror_mode": {
    "name": "ipython",
    "version": 3
   },
   "file_extension": ".py",
   "mimetype": "text/x-python",
   "name": "python",
   "nbconvert_exporter": "python",
   "pygments_lexer": "ipython3",
   "version": "3.6.3"
  }
 },
 "nbformat": 4,
 "nbformat_minor": 2
}